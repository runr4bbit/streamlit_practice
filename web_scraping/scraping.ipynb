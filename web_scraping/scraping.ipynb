{
 "cells": [
  {
   "cell_type": "code",
   "execution_count": 2,
   "metadata": {},
   "outputs": [
    {
     "name": "stdout",
     "output_type": "stream",
     "text": [
      "Collecting beautifulsoup4\n",
      "  Downloading beautifulsoup4-4.10.0-py3-none-any.whl (97 kB)\n",
      "Collecting soupsieve>1.2\n",
      "  Downloading soupsieve-2.2.1-py3-none-any.whl (33 kB)\n",
      "Installing collected packages: soupsieve, beautifulsoup4\n",
      "Successfully installed beautifulsoup4-4.10.0 soupsieve-2.2.1\n",
      "Note: you may need to restart the kernel to use updated packages.\n"
     ]
    }
   ],
   "source": [
    "pip install beautifulsoup4"
   ]
  },
  {
   "cell_type": "code",
   "execution_count": 4,
   "metadata": {},
   "outputs": [],
   "source": [
    "from bs4 import BeautifulSoup\n",
    "import requests"
   ]
  },
  {
   "cell_type": "code",
   "execution_count": 5,
   "metadata": {},
   "outputs": [],
   "source": [
    "url = 'https://scraping-for-beginner.herokuapp.com/udemy'"
   ]
  },
  {
   "cell_type": "code",
   "execution_count": 6,
   "metadata": {},
   "outputs": [
    {
     "data": {
      "text/plain": [
       "<Response [200]>"
      ]
     },
     "execution_count": 6,
     "metadata": {},
     "output_type": "execute_result"
    }
   ],
   "source": [
    "res = requests.get(url)\n",
    "res"
   ]
  },
  {
   "cell_type": "code",
   "execution_count": 19,
   "metadata": {},
   "outputs": [],
   "source": [
    "soup = BeautifulSoup(res.text, 'html.parser')"
   ]
  },
  {
   "cell_type": "code",
   "execution_count": 16,
   "metadata": {},
   "outputs": [
    {
     "data": {
      "text/plain": [
       "13258"
      ]
     },
     "execution_count": 16,
     "metadata": {},
     "output_type": "execute_result"
    }
   ],
   "source": [
    "n_subscriber = soup.find('p', {'class': 'subscribers'}).text\n",
    "n_subscriber = int(n_subscriber.split('：')[1])\n",
    "n_subscriber"
   ]
  },
  {
   "cell_type": "code",
   "execution_count": 17,
   "metadata": {},
   "outputs": [
    {
     "data": {
      "text/plain": [
       "2368"
      ]
     },
     "execution_count": 17,
     "metadata": {},
     "output_type": "execute_result"
    }
   ],
   "source": [
    "n_review = soup.find('p', {'class': 'reviews'}).text\n",
    "n_review = int(n_review.split('：')[1])\n",
    "n_review"
   ]
  },
  {
   "cell_type": "markdown",
   "metadata": {},
   "source": [
    "## ECサイト"
   ]
  },
  {
   "cell_type": "code",
   "execution_count": 20,
   "metadata": {},
   "outputs": [],
   "source": [
    "url_ec = 'https://scraping.official.ec/'\n",
    "res = requests.get(url_ec)\n",
    "soup = BeautifulSoup(res.text, 'html.parser')"
   ]
  },
  {
   "cell_type": "code",
   "execution_count": 25,
   "metadata": {},
   "outputs": [
    {
     "data": {
      "text/plain": [
       "4"
      ]
     },
     "execution_count": 25,
     "metadata": {},
     "output_type": "execute_result"
    }
   ],
   "source": [
    "item_list = soup.find('ul', {'id': 'itemList'})\n",
    "len(item_list.find_all('li'))"
   ]
  },
  {
   "cell_type": "code",
   "execution_count": 26,
   "metadata": {},
   "outputs": [],
   "source": [
    "items = item_list.find_all('li')"
   ]
  },
  {
   "cell_type": "code",
   "execution_count": 27,
   "metadata": {},
   "outputs": [],
   "source": [
    "item = items[0]"
   ]
  },
  {
   "cell_type": "code",
   "execution_count": 38,
   "metadata": {},
   "outputs": [
    {
     "data": {
      "text/plain": [
       "30000"
      ]
     },
     "execution_count": 38,
     "metadata": {},
     "output_type": "execute_result"
    }
   ],
   "source": [
    "import re\n",
    "title = item.find('p', {'class': re.compile('items-grid_itemTitleText.*')}).text\n",
    "price = item.find('p', {'class': re.compile('items-grid_price.*')}).text\n",
    "price = int(price.replace('¥', '').replace(',', ''))\n",
    "price"
   ]
  },
  {
   "cell_type": "code",
   "execution_count": 41,
   "metadata": {},
   "outputs": [],
   "source": [
    "link = item.find('a')['href']"
   ]
  },
  {
   "cell_type": "code",
   "execution_count": 47,
   "metadata": {},
   "outputs": [
    {
     "data": {
      "text/plain": [
       "False"
      ]
     },
     "execution_count": 47,
     "metadata": {},
     "output_type": "execute_result"
    }
   ],
   "source": [
    "# SOLD OUT\n",
    "items[3].find('p', {'class': re.compile('items-grid_soldOut.*')}) == None"
   ]
  },
  {
   "cell_type": "code",
   "execution_count": 46,
   "metadata": {},
   "outputs": [
    {
     "data": {
      "text/plain": [
       "True"
      ]
     },
     "execution_count": 46,
     "metadata": {},
     "output_type": "execute_result"
    }
   ],
   "source": [
    "# 在庫あり\n",
    "items[0].find('p', {'class': re.compile('items-grid_soldOut.*')}) == None"
   ]
  },
  {
   "cell_type": "code",
   "execution_count": 50,
   "metadata": {},
   "outputs": [
    {
     "data": {
      "text/plain": [
       "'在庫あり'"
      ]
     },
     "execution_count": 50,
     "metadata": {},
     "output_type": "execute_result"
    }
   ],
   "source": [
    "is_stock = item.find('p', {'class': re.compile('items-grid_soldOut.*')}) == None\n",
    "is_stock = '在庫あり' if is_stock == True else '在庫なし'\n",
    "is_stock"
   ]
  },
  {
   "cell_type": "markdown",
   "metadata": {},
   "source": [
    "## まとめる"
   ]
  },
  {
   "cell_type": "code",
   "execution_count": 51,
   "metadata": {},
   "outputs": [
    {
     "data": {
      "text/plain": [
       "[{'title': 'プログラミング学習の相談',\n",
       "  'price': 30000,\n",
       "  'link': 'https://scraping.official.ec/items/40792108',\n",
       "  'is_stock': '在庫あり'},\n",
       " {'title': '顧問 & アドバイザリー',\n",
       "  'price': 100000,\n",
       "  'link': 'https://scraping.official.ec/items/40792153',\n",
       "  'is_stock': '在庫あり'},\n",
       " {'title': 'Udemy講座まとめ買いパック',\n",
       "  'price': 8000,\n",
       "  'link': 'https://scraping.official.ec/items/40792284',\n",
       "  'is_stock': '在庫あり'},\n",
       " {'title': 'YouTubeコンサルティング',\n",
       "  'price': 15000,\n",
       "  'link': 'https://scraping.official.ec/items/40792454',\n",
       "  'is_stock': '在庫なし'}]"
      ]
     },
     "execution_count": 51,
     "metadata": {},
     "output_type": "execute_result"
    }
   ],
   "source": [
    "import re\n",
    "\n",
    "url_ec = 'https://scraping.official.ec/'\n",
    "res = requests.get(url_ec)\n",
    "soup = BeautifulSoup(res.text, 'html.parser')\n",
    "item_list = soup.find('ul', {'id': 'itemList'})\n",
    "items = item_list.find_all('li')\n",
    "\n",
    "data_ec = []\n",
    "for item in items:\n",
    "    datum_ec = {}\n",
    "    datum_ec['title'] = item.find('p', {'class': re.compile('items-grid_itemTitleText.*')}).text\n",
    "    price = item.find('p', {'class': re.compile('items-grid_price.*')}).text\n",
    "    datum_ec['price'] = int(price.replace('¥', '').replace(',', ''))\n",
    "    datum_ec['link'] = item.find('a')['href']\n",
    "    is_stock = item.find('p', {'class': re.compile('items-grid_soldOut.*')}) == None\n",
    "    datum_ec['is_stock'] = '在庫あり' if is_stock == True else '在庫なし'\n",
    "    data_ec.append(datum_ec)\n",
    "data_ec"
   ]
  },
  {
   "cell_type": "markdown",
   "metadata": {},
   "source": [
    "## Udemy"
   ]
  },
  {
   "cell_type": "code",
   "execution_count": null,
   "metadata": {},
   "outputs": [],
   "source": [
    "url = 'https://scraping-for-beginner.herokuapp.com/udemy'\n",
    "res = requests.get(url)\n",
    "soup = BeautifulSoup(res.text, 'html.parser')\n",
    "\n",
    "n_subscriber = soup.find('p', {'class': 'subscribers'}).text\n",
    "n_subscriber = int(n_subscriber.split('：')[1])\n",
    "\n",
    "n_review = soup.find('p', {'class': 'reviews'}).text\n",
    "n_review = int(n_review.split('：')[1])"
   ]
  }
 ],
 "metadata": {
  "interpreter": {
   "hash": "1453d9d108f4841d914fd7c8bacc468987a3aeb59ec410b3d68f52ab5761b452"
  },
  "kernelspec": {
   "display_name": "Python 3.9.7 64-bit",
   "name": "python3"
  },
  "language_info": {
   "codemirror_mode": {
    "name": "ipython",
    "version": 3
   },
   "file_extension": ".py",
   "mimetype": "text/x-python",
   "name": "python",
   "nbconvert_exporter": "python",
   "pygments_lexer": "ipython3",
   "version": "3.9.7"
  },
  "orig_nbformat": 4
 },
 "nbformat": 4,
 "nbformat_minor": 2
}
