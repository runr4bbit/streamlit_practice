{
 "cells": [
  {
   "cell_type": "code",
   "execution_count": 2,
   "metadata": {},
   "outputs": [
    {
     "name": "stdout",
     "output_type": "stream",
     "text": [
      "Collecting beautifulsoup4\n",
      "  Downloading beautifulsoup4-4.10.0-py3-none-any.whl (97 kB)\n",
      "Collecting soupsieve>1.2\n",
      "  Downloading soupsieve-2.2.1-py3-none-any.whl (33 kB)\n",
      "Installing collected packages: soupsieve, beautifulsoup4\n",
      "Successfully installed beautifulsoup4-4.10.0 soupsieve-2.2.1\n",
      "Note: you may need to restart the kernel to use updated packages.\n"
     ]
    }
   ],
   "source": [
    "pip install beautifulsoup4"
   ]
  },
  {
   "cell_type": "code",
   "execution_count": 4,
   "metadata": {},
   "outputs": [],
   "source": [
    "from bs4 import BeautifulSoup\n",
    "import requests"
   ]
  },
  {
   "cell_type": "code",
   "execution_count": 5,
   "metadata": {},
   "outputs": [],
   "source": [
    "url = 'https://scraping-for-beginner.herokuapp.com/udemy'"
   ]
  },
  {
   "cell_type": "code",
   "execution_count": 6,
   "metadata": {},
   "outputs": [
    {
     "data": {
      "text/plain": [
       "<Response [200]>"
      ]
     },
     "execution_count": 6,
     "metadata": {},
     "output_type": "execute_result"
    }
   ],
   "source": [
    "res = requests.get(url)\n",
    "res"
   ]
  },
  {
   "cell_type": "code",
   "execution_count": 19,
   "metadata": {},
   "outputs": [],
   "source": [
    "soup = BeautifulSoup(res.text, 'html.parser')"
   ]
  },
  {
   "cell_type": "code",
   "execution_count": 16,
   "metadata": {},
   "outputs": [
    {
     "data": {
      "text/plain": [
       "13258"
      ]
     },
     "execution_count": 16,
     "metadata": {},
     "output_type": "execute_result"
    }
   ],
   "source": [
    "n_subscriber = soup.find('p', {'class': 'subscribers'}).text\n",
    "n_subscriber = int(n_subscriber.split('：')[1])\n",
    "n_subscriber"
   ]
  },
  {
   "cell_type": "code",
   "execution_count": 17,
   "metadata": {},
   "outputs": [
    {
     "data": {
      "text/plain": [
       "2368"
      ]
     },
     "execution_count": 17,
     "metadata": {},
     "output_type": "execute_result"
    }
   ],
   "source": [
    "n_review = soup.find('p', {'class': 'reviews'}).text\n",
    "n_review = int(n_review.split('：')[1])\n",
    "n_review"
   ]
  },
  {
   "cell_type": "markdown",
   "metadata": {},
   "source": [
    "## ECサイト"
   ]
  },
  {
   "cell_type": "code",
   "execution_count": 20,
   "metadata": {},
   "outputs": [],
   "source": [
    "url_ec = 'https://scraping.official.ec/'\n",
    "res = requests.get(url_ec)\n",
    "soup = BeautifulSoup(res.text, 'html.parser')"
   ]
  },
  {
   "cell_type": "code",
   "execution_count": 25,
   "metadata": {},
   "outputs": [
    {
     "data": {
      "text/plain": [
       "4"
      ]
     },
     "execution_count": 25,
     "metadata": {},
     "output_type": "execute_result"
    }
   ],
   "source": [
    "item_list = soup.find('ul', {'id': 'itemList'})\n",
    "len(item_list.find_all('li'))"
   ]
  },
  {
   "cell_type": "code",
   "execution_count": 26,
   "metadata": {},
   "outputs": [],
   "source": [
    "items = item_list.find_all('li')"
   ]
  },
  {
   "cell_type": "code",
   "execution_count": 27,
   "metadata": {},
   "outputs": [],
   "source": [
    "item = items[0]"
   ]
  },
  {
   "cell_type": "code",
   "execution_count": 38,
   "metadata": {},
   "outputs": [
    {
     "data": {
      "text/plain": [
       "30000"
      ]
     },
     "execution_count": 38,
     "metadata": {},
     "output_type": "execute_result"
    }
   ],
   "source": [
    "import re\n",
    "title = item.find('p', {'class': re.compile('items-grid_itemTitleText.*')}).text\n",
    "price = item.find('p', {'class': re.compile('items-grid_price.*')}).text\n",
    "price = int(price.replace('¥', '').replace(',', ''))\n",
    "price"
   ]
  },
  {
   "cell_type": "code",
   "execution_count": 41,
   "metadata": {},
   "outputs": [],
   "source": [
    "link = item.find('a')['href']"
   ]
  },
  {
   "cell_type": "code",
   "execution_count": 47,
   "metadata": {},
   "outputs": [
    {
     "data": {
      "text/plain": [
       "False"
      ]
     },
     "execution_count": 47,
     "metadata": {},
     "output_type": "execute_result"
    }
   ],
   "source": [
    "# SOLD OUT\n",
    "items[3].find('p', {'class': re.compile('items-grid_soldOut.*')}) == None"
   ]
  },
  {
   "cell_type": "code",
   "execution_count": 46,
   "metadata": {},
   "outputs": [
    {
     "data": {
      "text/plain": [
       "True"
      ]
     },
     "execution_count": 46,
     "metadata": {},
     "output_type": "execute_result"
    }
   ],
   "source": [
    "# 在庫あり\n",
    "items[0].find('p', {'class': re.compile('items-grid_soldOut.*')}) == None"
   ]
  },
  {
   "cell_type": "code",
   "execution_count": 50,
   "metadata": {},
   "outputs": [
    {
     "data": {
      "text/plain": [
       "'在庫あり'"
      ]
     },
     "execution_count": 50,
     "metadata": {},
     "output_type": "execute_result"
    }
   ],
   "source": [
    "is_stock = item.find('p', {'class': re.compile('items-grid_soldOut.*')}) == None\n",
    "is_stock = '在庫あり' if is_stock == True else '在庫なし'\n",
    "is_stock"
   ]
  },
  {
   "cell_type": "markdown",
   "metadata": {},
   "source": [
    "## まとめる"
   ]
  },
  {
   "cell_type": "code",
   "execution_count": 51,
   "metadata": {},
   "outputs": [
    {
     "data": {
      "text/plain": [
       "[{'title': 'プログラミング学習の相談',\n",
       "  'price': 30000,\n",
       "  'link': 'https://scraping.official.ec/items/40792108',\n",
       "  'is_stock': '在庫あり'},\n",
       " {'title': '顧問 & アドバイザリー',\n",
       "  'price': 100000,\n",
       "  'link': 'https://scraping.official.ec/items/40792153',\n",
       "  'is_stock': '在庫あり'},\n",
       " {'title': 'Udemy講座まとめ買いパック',\n",
       "  'price': 8000,\n",
       "  'link': 'https://scraping.official.ec/items/40792284',\n",
       "  'is_stock': '在庫あり'},\n",
       " {'title': 'YouTubeコンサルティング',\n",
       "  'price': 15000,\n",
       "  'link': 'https://scraping.official.ec/items/40792454',\n",
       "  'is_stock': '在庫なし'}]"
      ]
     },
     "execution_count": 51,
     "metadata": {},
     "output_type": "execute_result"
    }
   ],
   "source": [
    "import re\n",
    "\n",
    "url_ec = 'https://scraping.official.ec/'\n",
    "res = requests.get(url_ec)\n",
    "soup = BeautifulSoup(res.text, 'html.parser')\n",
    "item_list = soup.find('ul', {'id': 'itemList'})\n",
    "items = item_list.find_all('li')\n",
    "\n",
    "data_ec = []\n",
    "for item in items:\n",
    "    datum_ec = {}\n",
    "    datum_ec['title'] = item.find('p', {'class': re.compile('items-grid_itemTitleText.*')}).text\n",
    "    price = item.find('p', {'class': re.compile('items-grid_price.*')}).text\n",
    "    datum_ec['price'] = int(price.replace('¥', '').replace(',', ''))\n",
    "    datum_ec['link'] = item.find('a')['href']\n",
    "    is_stock = item.find('p', {'class': re.compile('items-grid_soldOut.*')}) == None\n",
    "    datum_ec['is_stock'] = '在庫あり' if is_stock == True else '在庫なし'\n",
    "    data_ec.append(datum_ec)\n",
    "data_ec"
   ]
  },
  {
   "cell_type": "markdown",
   "metadata": {},
   "source": [
    "## Udemy"
   ]
  },
  {
   "cell_type": "code",
   "execution_count": 6,
   "metadata": {},
   "outputs": [
    {
     "data": {
      "text/plain": [
       "{'n_subscriber': 13258, 'n_review': 2368}"
      ]
     },
     "execution_count": 6,
     "metadata": {},
     "output_type": "execute_result"
    }
   ],
   "source": [
    "from bs4 import BeautifulSoup\n",
    "import requests\n",
    "\n",
    "def get_data_udemy():\n",
    "    url = 'https://scraping-for-beginner.herokuapp.com/udemy'\n",
    "    res = requests.get(url)\n",
    "    soup = BeautifulSoup(res.text, 'html.parser')\n",
    "\n",
    "    n_subscriber = soup.find('p', {'class': 'subscribers'}).text\n",
    "    n_subscriber = int(n_subscriber.split('：')[1])\n",
    "\n",
    "    n_review = soup.find('p', {'class': 'reviews'}).text\n",
    "    n_review = int(n_review.split('：')[1])\n",
    "    return {\n",
    "        'n_subscriber': n_subscriber,\n",
    "        'n_review': n_review\n",
    "    }\n",
    "get_data_udemy()"
   ]
  },
  {
   "cell_type": "code",
   "execution_count": 7,
   "metadata": {},
   "outputs": [
    {
     "data": {
      "text/html": [
       "<div>\n",
       "<style scoped>\n",
       "    .dataframe tbody tr th:only-of-type {\n",
       "        vertical-align: middle;\n",
       "    }\n",
       "\n",
       "    .dataframe tbody tr th {\n",
       "        vertical-align: top;\n",
       "    }\n",
       "\n",
       "    .dataframe thead th {\n",
       "        text-align: right;\n",
       "    }\n",
       "</style>\n",
       "<table border=\"1\" class=\"dataframe\">\n",
       "  <thead>\n",
       "    <tr style=\"text-align: right;\">\n",
       "      <th></th>\n",
       "      <th>title</th>\n",
       "      <th>price</th>\n",
       "      <th>link</th>\n",
       "      <th>is_stock</th>\n",
       "    </tr>\n",
       "  </thead>\n",
       "  <tbody>\n",
       "    <tr>\n",
       "      <th>0</th>\n",
       "      <td>プログラミング学習の相談</td>\n",
       "      <td>30000</td>\n",
       "      <td>https://scraping.official.ec/items/40792108</td>\n",
       "      <td>在庫あり</td>\n",
       "    </tr>\n",
       "    <tr>\n",
       "      <th>1</th>\n",
       "      <td>顧問 &amp; アドバイザリー</td>\n",
       "      <td>100000</td>\n",
       "      <td>https://scraping.official.ec/items/40792153</td>\n",
       "      <td>在庫あり</td>\n",
       "    </tr>\n",
       "    <tr>\n",
       "      <th>2</th>\n",
       "      <td>Udemy講座まとめ買いパック</td>\n",
       "      <td>8000</td>\n",
       "      <td>https://scraping.official.ec/items/40792284</td>\n",
       "      <td>在庫あり</td>\n",
       "    </tr>\n",
       "    <tr>\n",
       "      <th>3</th>\n",
       "      <td>YouTubeコンサルティング</td>\n",
       "      <td>15000</td>\n",
       "      <td>https://scraping.official.ec/items/40792454</td>\n",
       "      <td>在庫なし</td>\n",
       "    </tr>\n",
       "  </tbody>\n",
       "</table>\n",
       "</div>"
      ],
      "text/plain": [
       "             title   price                                         link  \\\n",
       "0     プログラミング学習の相談   30000  https://scraping.official.ec/items/40792108   \n",
       "1     顧問 & アドバイザリー  100000  https://scraping.official.ec/items/40792153   \n",
       "2  Udemy講座まとめ買いパック    8000  https://scraping.official.ec/items/40792284   \n",
       "3  YouTubeコンサルティング   15000  https://scraping.official.ec/items/40792454   \n",
       "\n",
       "  is_stock  \n",
       "0     在庫あり  \n",
       "1     在庫あり  \n",
       "2     在庫あり  \n",
       "3     在庫なし  "
      ]
     },
     "execution_count": 7,
     "metadata": {},
     "output_type": "execute_result"
    }
   ],
   "source": [
    "import re\n",
    "import pandas as pd\n",
    "\n",
    "def get_data_ec():\n",
    "    url_ec = 'https://scraping.official.ec/'\n",
    "    res = requests.get(url_ec)\n",
    "    soup = BeautifulSoup(res.text, 'html.parser')\n",
    "    item_list = soup.find('ul', {'id': 'itemList'})\n",
    "    items = item_list.find_all('li')\n",
    "\n",
    "    data_ec = []\n",
    "    for item in items:\n",
    "        datum_ec = {}\n",
    "        datum_ec['title'] = item.find('p', {'class': re.compile('items-grid_itemTitleText.*')}).text\n",
    "        price = item.find('p', {'class': re.compile('items-grid_price.*')}).text\n",
    "        datum_ec['price'] = int(price.replace('¥', '').replace(',', ''))\n",
    "        datum_ec['link'] = item.find('a')['href']\n",
    "        is_stock = item.find('p', {'class': re.compile('items-grid_soldOut.*')}) == None\n",
    "        datum_ec['is_stock'] = '在庫あり' if is_stock == True else '在庫なし'\n",
    "        data_ec.append(datum_ec)\n",
    "    df_ec = pd.DataFrame(data_ec)\n",
    "    return df_ec\n",
    "\n",
    "get_data_ec()"
   ]
  },
  {
   "cell_type": "code",
   "execution_count": null,
   "metadata": {},
   "outputs": [],
   "source": [
    "pip install gspread"
   ]
  },
  {
   "cell_type": "code",
   "execution_count": null,
   "metadata": {},
   "outputs": [],
   "source": [
    "pip install google"
   ]
  },
  {
   "cell_type": "code",
   "execution_count": 12,
   "metadata": {},
   "outputs": [],
   "source": [
    "import gspread\n",
    "from google.oauth2.service_account import Credentials\n",
    "\n",
    "scopes = [\n",
    "    'https://www.googleapis.com/auth/spreadsheets',\n",
    "    'https://www.googleapis.com/auth/drive'\n",
    "]\n",
    "\n",
    "credentials = Credentials.from_service_account_file(\n",
    "    'secret.json',\n",
    "    scopes=scopes\n",
    ")\n",
    "\n",
    "gc = gspread.authorize(credentials)"
   ]
  },
  {
   "cell_type": "code",
   "execution_count": 35,
   "metadata": {},
   "outputs": [
    {
     "data": {
      "text/plain": [
       "<Spreadsheet 'api test' id:13oObrHh_KMXEa-rxxRwTvQyC1oHrHbb-SrL87q3l8Vw>"
      ]
     },
     "execution_count": 35,
     "metadata": {},
     "output_type": "execute_result"
    }
   ],
   "source": [
    "SP_SHEET_KEY = '13oObrHh_KMXEa-rxxRwTvQyC1oHrHbb-SrL87q3l8Vw'\n",
    "sh = gc.open_by_key(SP_SHEET_KEY)\n",
    "sh"
   ]
  },
  {
   "cell_type": "code",
   "execution_count": 36,
   "metadata": {},
   "outputs": [],
   "source": [
    "SP_SHEET = 'db'\n",
    "worksheet = sh.worksheet(SP_SHEET)\n",
    "data = worksheet.get_all_values()"
   ]
  },
  {
   "cell_type": "code",
   "execution_count": 37,
   "metadata": {},
   "outputs": [
    {
     "data": {
      "text/html": [
       "<div>\n",
       "<style scoped>\n",
       "    .dataframe tbody tr th:only-of-type {\n",
       "        vertical-align: middle;\n",
       "    }\n",
       "\n",
       "    .dataframe tbody tr th {\n",
       "        vertical-align: top;\n",
       "    }\n",
       "\n",
       "    .dataframe thead th {\n",
       "        text-align: right;\n",
       "    }\n",
       "</style>\n",
       "<table border=\"1\" class=\"dataframe\">\n",
       "  <thead>\n",
       "    <tr style=\"text-align: right;\">\n",
       "      <th></th>\n",
       "      <th>date</th>\n",
       "      <th>n_subscriber</th>\n",
       "      <th>n_review</th>\n",
       "    </tr>\n",
       "  </thead>\n",
       "  <tbody>\n",
       "    <tr>\n",
       "      <th>0</th>\n",
       "      <td>2021/10/10</td>\n",
       "      <td>12258</td>\n",
       "      <td>2268</td>\n",
       "    </tr>\n",
       "    <tr>\n",
       "      <th>1</th>\n",
       "      <td>2021/10/11</td>\n",
       "      <td>12358</td>\n",
       "      <td>2278</td>\n",
       "    </tr>\n",
       "    <tr>\n",
       "      <th>2</th>\n",
       "      <td>2021/10/12</td>\n",
       "      <td>12458</td>\n",
       "      <td>2288</td>\n",
       "    </tr>\n",
       "    <tr>\n",
       "      <th>3</th>\n",
       "      <td>2021/10/13</td>\n",
       "      <td>12558</td>\n",
       "      <td>2298</td>\n",
       "    </tr>\n",
       "    <tr>\n",
       "      <th>4</th>\n",
       "      <td>2021/10/14</td>\n",
       "      <td>12658</td>\n",
       "      <td>2308</td>\n",
       "    </tr>\n",
       "    <tr>\n",
       "      <th>5</th>\n",
       "      <td>2021/10/15</td>\n",
       "      <td>12758</td>\n",
       "      <td>2318</td>\n",
       "    </tr>\n",
       "    <tr>\n",
       "      <th>6</th>\n",
       "      <td>2021/10/16</td>\n",
       "      <td>12858</td>\n",
       "      <td>2328</td>\n",
       "    </tr>\n",
       "    <tr>\n",
       "      <th>7</th>\n",
       "      <td>2021/10/17</td>\n",
       "      <td>12958</td>\n",
       "      <td>2338</td>\n",
       "    </tr>\n",
       "    <tr>\n",
       "      <th>8</th>\n",
       "      <td>2021/10/18</td>\n",
       "      <td>13058</td>\n",
       "      <td>2348</td>\n",
       "    </tr>\n",
       "    <tr>\n",
       "      <th>9</th>\n",
       "      <td>2021/10/19</td>\n",
       "      <td>13158</td>\n",
       "      <td>2358</td>\n",
       "    </tr>\n",
       "  </tbody>\n",
       "</table>\n",
       "</div>"
      ],
      "text/plain": [
       "         date n_subscriber n_review\n",
       "0  2021/10/10        12258     2268\n",
       "1  2021/10/11        12358     2278\n",
       "2  2021/10/12        12458     2288\n",
       "3  2021/10/13        12558     2298\n",
       "4  2021/10/14        12658     2308\n",
       "5  2021/10/15        12758     2318\n",
       "6  2021/10/16        12858     2328\n",
       "7  2021/10/17        12958     2338\n",
       "8  2021/10/18        13058     2348\n",
       "9  2021/10/19        13158     2358"
      ]
     },
     "execution_count": 37,
     "metadata": {},
     "output_type": "execute_result"
    }
   ],
   "source": [
    "df = pd.DataFrame(data[1:], columns=data[0])\n",
    "df"
   ]
  },
  {
   "cell_type": "code",
   "execution_count": 31,
   "metadata": {},
   "outputs": [
    {
     "data": {
      "text/plain": [
       "{'n_subscriber': 13258, 'n_review': 2368}"
      ]
     },
     "execution_count": 31,
     "metadata": {},
     "output_type": "execute_result"
    }
   ],
   "source": [
    "data_udemy = get_data_udemy()\n",
    "data_udemy"
   ]
  },
  {
   "cell_type": "code",
   "execution_count": 24,
   "metadata": {},
   "outputs": [],
   "source": [
    "import datetime"
   ]
  },
  {
   "cell_type": "code",
   "execution_count": 32,
   "metadata": {},
   "outputs": [
    {
     "data": {
      "text/plain": [
       "'2021/10/20'"
      ]
     },
     "execution_count": 32,
     "metadata": {},
     "output_type": "execute_result"
    }
   ],
   "source": [
    "today = datetime.date.today().strftime('%Y/%m/%d')\n",
    "today"
   ]
  },
  {
   "cell_type": "code",
   "execution_count": 33,
   "metadata": {},
   "outputs": [
    {
     "data": {
      "text/plain": [
       "{'n_subscriber': 13258, 'n_review': 2368, 'date': '2021/10/20'}"
      ]
     },
     "execution_count": 33,
     "metadata": {},
     "output_type": "execute_result"
    }
   ],
   "source": [
    "data_udemy['date'] = today\n",
    "data_udemy"
   ]
  },
  {
   "cell_type": "code",
   "execution_count": 39,
   "metadata": {},
   "outputs": [
    {
     "data": {
      "text/html": [
       "<div>\n",
       "<style scoped>\n",
       "    .dataframe tbody tr th:only-of-type {\n",
       "        vertical-align: middle;\n",
       "    }\n",
       "\n",
       "    .dataframe tbody tr th {\n",
       "        vertical-align: top;\n",
       "    }\n",
       "\n",
       "    .dataframe thead th {\n",
       "        text-align: right;\n",
       "    }\n",
       "</style>\n",
       "<table border=\"1\" class=\"dataframe\">\n",
       "  <thead>\n",
       "    <tr style=\"text-align: right;\">\n",
       "      <th></th>\n",
       "      <th>date</th>\n",
       "      <th>n_subscriber</th>\n",
       "      <th>n_review</th>\n",
       "    </tr>\n",
       "  </thead>\n",
       "  <tbody>\n",
       "    <tr>\n",
       "      <th>6</th>\n",
       "      <td>2021/10/16</td>\n",
       "      <td>12858</td>\n",
       "      <td>2328</td>\n",
       "    </tr>\n",
       "    <tr>\n",
       "      <th>7</th>\n",
       "      <td>2021/10/17</td>\n",
       "      <td>12958</td>\n",
       "      <td>2338</td>\n",
       "    </tr>\n",
       "    <tr>\n",
       "      <th>8</th>\n",
       "      <td>2021/10/18</td>\n",
       "      <td>13058</td>\n",
       "      <td>2348</td>\n",
       "    </tr>\n",
       "    <tr>\n",
       "      <th>9</th>\n",
       "      <td>2021/10/19</td>\n",
       "      <td>13158</td>\n",
       "      <td>2358</td>\n",
       "    </tr>\n",
       "    <tr>\n",
       "      <th>10</th>\n",
       "      <td>2021/10/20</td>\n",
       "      <td>13258</td>\n",
       "      <td>2368</td>\n",
       "    </tr>\n",
       "  </tbody>\n",
       "</table>\n",
       "</div>"
      ],
      "text/plain": [
       "          date n_subscriber n_review\n",
       "6   2021/10/16        12858     2328\n",
       "7   2021/10/17        12958     2338\n",
       "8   2021/10/18        13058     2348\n",
       "9   2021/10/19        13158     2358\n",
       "10  2021/10/20        13258     2368"
      ]
     },
     "execution_count": 39,
     "metadata": {},
     "output_type": "execute_result"
    }
   ],
   "source": [
    "df = df.append(data_udemy, ignore_index=True)\n",
    "df.tail()"
   ]
  },
  {
   "cell_type": "code",
   "execution_count": null,
   "metadata": {},
   "outputs": [],
   "source": [
    "pip install gspread-DataFrame"
   ]
  },
  {
   "cell_type": "code",
   "execution_count": 41,
   "metadata": {},
   "outputs": [],
   "source": [
    "from gspread_dataframe import set_with_dataframe"
   ]
  },
  {
   "cell_type": "code",
   "execution_count": 42,
   "metadata": {},
   "outputs": [],
   "source": [
    "set_with_dataframe(worksheet, df, row=1, col=1)"
   ]
  },
  {
   "cell_type": "code",
   "execution_count": 51,
   "metadata": {},
   "outputs": [],
   "source": [
    "data_udemy = get_data_udemy()\n",
    "df_udemy = pd.DataFrame(data[1:], columns=data[0])"
   ]
  },
  {
   "cell_type": "code",
   "execution_count": 44,
   "metadata": {},
   "outputs": [],
   "source": [
    "import altair as alt"
   ]
  },
  {
   "cell_type": "code",
   "execution_count": 60,
   "metadata": {},
   "outputs": [],
   "source": [
    "df_udemy = df_udemy.astype({\n",
    "    'n_subscriber':int,\n",
    "    'n_review': int\n",
    "})\n",
    "df_udemy.dtypes\n",
    "ymin1 = df_udemy['n_subscriber'].min() - 10\n",
    "ymax1 = df_udemy['n_subscriber'].max() + 10\n",
    "\n",
    "ymin2 = df_udemy['n_review'].min() - 10\n",
    "ymax2 = df_udemy['n_review'].max() + 10"
   ]
  },
  {
   "cell_type": "code",
   "execution_count": 61,
   "metadata": {},
   "outputs": [
    {
     "data": {
      "text/html": [
       "\n",
       "<div id=\"altair-viz-bf096b1603eb4bedadcd71cd0f607381\"></div>\n",
       "<script type=\"text/javascript\">\n",
       "  (function(spec, embedOpt){\n",
       "    let outputDiv = document.currentScript.previousElementSibling;\n",
       "    if (outputDiv.id !== \"altair-viz-bf096b1603eb4bedadcd71cd0f607381\") {\n",
       "      outputDiv = document.getElementById(\"altair-viz-bf096b1603eb4bedadcd71cd0f607381\");\n",
       "    }\n",
       "    const paths = {\n",
       "      \"vega\": \"https://cdn.jsdelivr.net/npm//vega@5?noext\",\n",
       "      \"vega-lib\": \"https://cdn.jsdelivr.net/npm//vega-lib?noext\",\n",
       "      \"vega-lite\": \"https://cdn.jsdelivr.net/npm//vega-lite@4.8.1?noext\",\n",
       "      \"vega-embed\": \"https://cdn.jsdelivr.net/npm//vega-embed@6?noext\",\n",
       "    };\n",
       "\n",
       "    function loadScript(lib) {\n",
       "      return new Promise(function(resolve, reject) {\n",
       "        var s = document.createElement('script');\n",
       "        s.src = paths[lib];\n",
       "        s.async = true;\n",
       "        s.onload = () => resolve(paths[lib]);\n",
       "        s.onerror = () => reject(`Error loading script: ${paths[lib]}`);\n",
       "        document.getElementsByTagName(\"head\")[0].appendChild(s);\n",
       "      });\n",
       "    }\n",
       "\n",
       "    function showError(err) {\n",
       "      outputDiv.innerHTML = `<div class=\"error\" style=\"color:red;\">${err}</div>`;\n",
       "      throw err;\n",
       "    }\n",
       "\n",
       "    function displayChart(vegaEmbed) {\n",
       "      vegaEmbed(outputDiv, spec, embedOpt)\n",
       "        .catch(err => showError(`Javascript Error: ${err.message}<br>This usually means there's a typo in your chart specification. See the javascript console for the full traceback.`));\n",
       "    }\n",
       "\n",
       "    if(typeof define === \"function\" && define.amd) {\n",
       "      requirejs.config({paths});\n",
       "      require([\"vega-embed\"], displayChart, err => showError(`Error loading script: ${err.message}`));\n",
       "    } else if (typeof vegaEmbed === \"function\") {\n",
       "      displayChart(vegaEmbed);\n",
       "    } else {\n",
       "      loadScript(\"vega\")\n",
       "        .then(() => loadScript(\"vega-lite\"))\n",
       "        .then(() => loadScript(\"vega-embed\"))\n",
       "        .catch(showError)\n",
       "        .then(() => displayChart(vegaEmbed));\n",
       "    }\n",
       "  })({\"config\": {\"view\": {\"continuousWidth\": 400, \"continuousHeight\": 300}}, \"layer\": [{\"mark\": {\"type\": \"line\", \"color\": \"#57A44C\", \"interpolate\": \"monotone\"}, \"encoding\": {\"x\": {\"type\": \"temporal\", \"axis\": {\"title\": null}, \"field\": \"date\"}, \"y\": {\"type\": \"quantitative\", \"axis\": {\"title\": \"\\u53d7\\u8b1b\\u751f\\u6570\", \"titleColor\": \"#5276A7\"}, \"field\": \"n_subscriber\", \"scale\": {\"domain\": [12248.0, 13168.0]}}}}, {\"mark\": {\"type\": \"line\", \"interpolate\": \"monotone\", \"stroke\": \"#5276A7\"}, \"encoding\": {\"x\": {\"type\": \"temporal\", \"axis\": {\"title\": null}, \"field\": \"date\"}, \"y\": {\"type\": \"quantitative\", \"axis\": {\"title\": \"\\u30ec\\u30d3\\u30e5\\u30fc\\u6570\", \"titleColor\": \"#5276A7\"}, \"field\": \"n_review\", \"scale\": {\"domain\": [2258.0, 2368.0]}}}}], \"data\": {\"name\": \"data-25baf658b4e3133d419e72dbc985f046\"}, \"resolve\": {\"scale\": {\"y\": \"independent\"}}, \"$schema\": \"https://vega.github.io/schema/vega-lite/v4.8.1.json\", \"datasets\": {\"data-25baf658b4e3133d419e72dbc985f046\": [{\"date\": \"2021/10/10\", \"n_subscriber\": 12258, \"n_review\": 2268}, {\"date\": \"2021/10/11\", \"n_subscriber\": 12358, \"n_review\": 2278}, {\"date\": \"2021/10/12\", \"n_subscriber\": 12458, \"n_review\": 2288}, {\"date\": \"2021/10/13\", \"n_subscriber\": 12558, \"n_review\": 2298}, {\"date\": \"2021/10/14\", \"n_subscriber\": 12658, \"n_review\": 2308}, {\"date\": \"2021/10/15\", \"n_subscriber\": 12758, \"n_review\": 2318}, {\"date\": \"2021/10/16\", \"n_subscriber\": 12858, \"n_review\": 2328}, {\"date\": \"2021/10/17\", \"n_subscriber\": 12958, \"n_review\": 2338}, {\"date\": \"2021/10/18\", \"n_subscriber\": 13058, \"n_review\": 2348}, {\"date\": \"2021/10/19\", \"n_subscriber\": 13158, \"n_review\": 2358}]}}, {\"mode\": \"vega-lite\"});\n",
       "</script>"
      ],
      "text/plain": [
       "alt.LayerChart(...)"
      ]
     },
     "execution_count": 61,
     "metadata": {},
     "output_type": "execute_result"
    }
   ],
   "source": [
    "base = alt.Chart(df_udemy).encode(\n",
    "    alt.X('date:T', axis=alt.Axis(title=None))\n",
    ")\n",
    "\n",
    "line1 = base.mark_line(color='#57A44C', interpolate='monotone').encode(\n",
    "    alt.Y('n_subscriber', axis=alt.Axis(title='受講生数', titleColor='#5276A7'), scale=alt.Scale(domain=[ymin1, ymax1]))\n",
    ")\n",
    "\n",
    "line2 = base.mark_line(stroke='#5276A7', interpolate='monotone').encode(\n",
    "    alt.Y('n_review', axis=alt.Axis(title='レビュー数', titleColor='#5276A7'), scale=alt.Scale(domain=[ymin2, ymax2]))\n",
    ")\n",
    "\n",
    "chart = alt.layer(line1, line2).resolve_scale(\n",
    "    y = 'independent'\n",
    ")\n",
    "chart"
   ]
  },
  {
   "cell_type": "code",
   "execution_count": null,
   "metadata": {},
   "outputs": [],
   "source": []
  }
 ],
 "metadata": {
  "interpreter": {
   "hash": "1453d9d108f4841d914fd7c8bacc468987a3aeb59ec410b3d68f52ab5761b452"
  },
  "kernelspec": {
   "display_name": "Python 3.9.7 64-bit",
   "name": "python3"
  },
  "language_info": {
   "codemirror_mode": {
    "name": "ipython",
    "version": 3
   },
   "file_extension": ".py",
   "mimetype": "text/x-python",
   "name": "python",
   "nbconvert_exporter": "python",
   "pygments_lexer": "ipython3",
   "version": "3.9.7"
  },
  "orig_nbformat": 4
 },
 "nbformat": 4,
 "nbformat_minor": 2
}
