{
 "cells": [
  {
   "cell_type": "code",
   "execution_count": 1,
   "metadata": {},
   "outputs": [
    {
     "name": "stdout",
     "output_type": "stream",
     "text": [
      "Collecting google-api-python-client\n",
      "  Downloading google_api_python_client-2.26.1-py2.py3-none-any.whl (7.6 MB)\n",
      "Collecting google-auth<3.0.0dev,>=1.16.0\n",
      "  Downloading google_auth-2.3.0-py2.py3-none-any.whl (154 kB)\n",
      "Collecting google-api-core<3.0.0dev,>=1.21.0\n",
      "  Downloading google_api_core-2.1.1-py2.py3-none-any.whl (95 kB)\n",
      "Collecting httplib2<1dev,>=0.15.0\n",
      "  Downloading httplib2-0.20.1-py3-none-any.whl (96 kB)\n",
      "Collecting google-auth-httplib2>=0.1.0\n",
      "  Downloading google_auth_httplib2-0.1.0-py2.py3-none-any.whl (9.3 kB)\n",
      "Collecting uritemplate<5,>=3.0.0\n",
      "  Downloading uritemplate-4.1.1-py2.py3-none-any.whl (10 kB)\n",
      "Requirement already satisfied: requests<3.0.0dev,>=2.18.0 in c:\\users\\runr4\\appdata\\local\\programs\\python\\python39\\lib\\site-packages (from google-api-core<3.0.0dev,>=1.21.0->google-api-python-client) (2.26.0)\n",
      "Requirement already satisfied: setuptools>=40.3.0 in c:\\users\\runr4\\appdata\\local\\programs\\python\\python39\\lib\\site-packages (from google-api-core<3.0.0dev,>=1.21.0->google-api-python-client) (57.4.0)\n",
      "Collecting googleapis-common-protos<2.0dev,>=1.6.0\n",
      "  Downloading googleapis_common_protos-1.53.0-py2.py3-none-any.whl (198 kB)\n",
      "Requirement already satisfied: protobuf>=3.12.0 in c:\\users\\runr4\\appdata\\local\\programs\\python\\python39\\lib\\site-packages (from google-api-core<3.0.0dev,>=1.21.0->google-api-python-client) (3.18.1)\n",
      "Requirement already satisfied: cachetools<5.0,>=2.0.0 in c:\\users\\runr4\\appdata\\local\\programs\\python\\python39\\lib\\site-packages (from google-auth<3.0.0dev,>=1.16.0->google-api-python-client) (4.2.4)\n",
      "Collecting pyasn1-modules>=0.2.1\n",
      "  Downloading pyasn1_modules-0.2.8-py2.py3-none-any.whl (155 kB)\n",
      "Collecting rsa<5,>=3.1.4\n",
      "  Downloading rsa-4.7.2-py3-none-any.whl (34 kB)\n",
      "Requirement already satisfied: six in c:\\users\\runr4\\appdata\\local\\programs\\python\\python39\\lib\\site-packages (from google-auth-httplib2>=0.1.0->google-api-python-client) (1.16.0)\n",
      "Requirement already satisfied: pyparsing<3,>=2.4.2 in c:\\users\\runr4\\appdata\\local\\programs\\python\\python39\\lib\\site-packages (from httplib2<1dev,>=0.15.0->google-api-python-client) (2.4.7)\n",
      "Collecting pyasn1<0.5.0,>=0.4.6\n",
      "  Downloading pyasn1-0.4.8-py2.py3-none-any.whl (77 kB)\n",
      "Requirement already satisfied: idna<4,>=2.5 in c:\\users\\runr4\\appdata\\local\\programs\\python\\python39\\lib\\site-packages (from requests<3.0.0dev,>=2.18.0->google-api-core<3.0.0dev,>=1.21.0->google-api-python-client) (3.2)\n",
      "Requirement already satisfied: charset-normalizer~=2.0.0 in c:\\users\\runr4\\appdata\\local\\programs\\python\\python39\\lib\\site-packages (from requests<3.0.0dev,>=2.18.0->google-api-core<3.0.0dev,>=1.21.0->google-api-python-client) (2.0.6)\n",
      "Requirement already satisfied: certifi>=2017.4.17 in c:\\users\\runr4\\appdata\\local\\programs\\python\\python39\\lib\\site-packages (from requests<3.0.0dev,>=2.18.0->google-api-core<3.0.0dev,>=1.21.0->google-api-python-client) (2021.10.8)\n",
      "Requirement already satisfied: urllib3<1.27,>=1.21.1 in c:\\users\\runr4\\appdata\\local\\programs\\python\\python39\\lib\\site-packages (from requests<3.0.0dev,>=2.18.0->google-api-core<3.0.0dev,>=1.21.0->google-api-python-client) (1.26.7)\n",
      "Installing collected packages: pyasn1, rsa, pyasn1-modules, httplib2, googleapis-common-protos, google-auth, uritemplate, google-auth-httplib2, google-api-core, google-api-python-client\n",
      "Successfully installed google-api-core-2.1.1 google-api-python-client-2.26.1 google-auth-2.3.0 google-auth-httplib2-0.1.0 googleapis-common-protos-1.53.0 httplib2-0.20.1 pyasn1-0.4.8 pyasn1-modules-0.2.8 rsa-4.7.2 uritemplate-4.1.1\n",
      "Note: you may need to restart the kernel to use updated packages.\n"
     ]
    }
   ],
   "source": [
    "pip install google-api-python-client"
   ]
  },
  {
   "cell_type": "code",
   "execution_count": 2,
   "metadata": {},
   "outputs": [],
   "source": [
    "from apiclient.discovery import build"
   ]
  },
  {
   "cell_type": "code",
   "execution_count": 3,
   "metadata": {},
   "outputs": [],
   "source": [
    "import json\n",
    "with open('secret.json') as f:\n",
    "    secret = json.load(f)"
   ]
  },
  {
   "cell_type": "code",
   "execution_count": 4,
   "metadata": {},
   "outputs": [],
   "source": [
    "import pandas as pd\n",
    "\n",
    "def video_search(youtube, q='自動化', max_results=50):\n",
    "  response = youtube.search().list(\n",
    "    q=q,\n",
    "    part=\"id,snippet\",\n",
    "    order='viewCount',\n",
    "    type='video',\n",
    "    maxResults=max_results\n",
    "  ).execute()\n",
    "\n",
    "  items_id = []\n",
    "  items = response['items']\n",
    "  for item in items:\n",
    "      item_id = {}\n",
    "      item_id['video_id'] = item['id']['videoId']\n",
    "      item_id['channel_id'] = item['snippet']['channelId']\n",
    "      items_id.append(item_id)\n",
    "  df_video = pd.DataFrame(items_id)\n",
    "  return df_video"
   ]
  },
  {
   "cell_type": "code",
   "execution_count": 5,
   "metadata": {},
   "outputs": [
    {
     "data": {
      "text/html": [
       "<div>\n",
       "<style scoped>\n",
       "    .dataframe tbody tr th:only-of-type {\n",
       "        vertical-align: middle;\n",
       "    }\n",
       "\n",
       "    .dataframe tbody tr th {\n",
       "        vertical-align: top;\n",
       "    }\n",
       "\n",
       "    .dataframe thead th {\n",
       "        text-align: right;\n",
       "    }\n",
       "</style>\n",
       "<table border=\"1\" class=\"dataframe\">\n",
       "  <thead>\n",
       "    <tr style=\"text-align: right;\">\n",
       "      <th></th>\n",
       "      <th>video_id</th>\n",
       "      <th>channel_id</th>\n",
       "    </tr>\n",
       "  </thead>\n",
       "  <tbody>\n",
       "    <tr>\n",
       "      <th>0</th>\n",
       "      <td>bsq2YY-XAEo</td>\n",
       "      <td>UC0xRMqPOyRNPTaL6BxhbCnQ</td>\n",
       "    </tr>\n",
       "    <tr>\n",
       "      <th>1</th>\n",
       "      <td>-5v7CuXm7Ns</td>\n",
       "      <td>UCGlgXjYVoHLD86TQQ799WIw</td>\n",
       "    </tr>\n",
       "    <tr>\n",
       "      <th>2</th>\n",
       "      <td>vRFVS_FNLwY</td>\n",
       "      <td>UCwhKqH0jDKm5vPOZ7WQ2R1A</td>\n",
       "    </tr>\n",
       "  </tbody>\n",
       "</table>\n",
       "</div>"
      ],
      "text/plain": [
       "      video_id                channel_id\n",
       "0  bsq2YY-XAEo  UC0xRMqPOyRNPTaL6BxhbCnQ\n",
       "1  -5v7CuXm7Ns  UCGlgXjYVoHLD86TQQ799WIw\n",
       "2  vRFVS_FNLwY  UCwhKqH0jDKm5vPOZ7WQ2R1A"
      ]
     },
     "execution_count": 5,
     "metadata": {},
     "output_type": "execute_result"
    }
   ],
   "source": [
    "DEVELOPER_KEY = secret['KEY']\n",
    "YOUTUBE_API_SERVICE_NAME = \"youtube\"\n",
    "YOUTUBE_API_VERSION = \"v3\"\n",
    "\n",
    "youtube = build(YOUTUBE_API_SERVICE_NAME, YOUTUBE_API_VERSION, developerKey=DEVELOPER_KEY)\n",
    "\n",
    "df_video = video_search(youtube, q='Python 自動化', max_results=30)\n",
    "df_video[:3]"
   ]
  },
  {
   "cell_type": "code",
   "execution_count": 6,
   "metadata": {},
   "outputs": [
    {
     "data": {
      "text/plain": [
       "['UC0xRMqPOyRNPTaL6BxhbCnQ',\n",
       " 'UCGlgXjYVoHLD86TQQ799WIw',\n",
       " 'UCwhKqH0jDKm5vPOZ7WQ2R1A']"
      ]
     },
     "execution_count": 6,
     "metadata": {},
     "output_type": "execute_result"
    }
   ],
   "source": [
    "channel_ids = df_video['channel_id'].unique().tolist()\n",
    "channel_ids[:3]"
   ]
  },
  {
   "cell_type": "code",
   "execution_count": 29,
   "metadata": {},
   "outputs": [
    {
     "data": {
      "text/plain": [
       "[{'channel_id': 'UCGlgXjYVoHLD86TQQ799WIw', 'subscriber_count': 128000},\n",
       " {'channel_id': 'UCMMjv61LfBy5J3AT8Ua0NGQ', 'subscriber_count': 138000},\n",
       " {'channel_id': 'UCGFxqqRaM97VjM5ToRfkoFg', 'subscriber_count': 5080}]"
      ]
     },
     "execution_count": 29,
     "metadata": {},
     "output_type": "execute_result"
    }
   ],
   "source": [
    "subscriber_list = youtube.channels().list(\n",
    "    id=','.join(channel_ids),\n",
    "    part='statistics',\n",
    "    fields='items(id,statistics(subscriberCount))'\n",
    ").execute()\n",
    "subscriber_list['items']\n",
    "subscribers = []\n",
    "for item in subscriber_list['items']:\n",
    "    subscriber = {}\n",
    "    subscriber['channel_id'] = item['id']\n",
    "    subscriber['subscriber_count'] = int(item['statistics']['subscriberCount'])\n",
    "    subscribers.append(subscriber)\n",
    "subscribers[:3]"
   ]
  },
  {
   "cell_type": "code",
   "execution_count": 13,
   "metadata": {},
   "outputs": [
    {
     "data": {
      "text/html": [
       "<div>\n",
       "<style scoped>\n",
       "    .dataframe tbody tr th:only-of-type {\n",
       "        vertical-align: middle;\n",
       "    }\n",
       "\n",
       "    .dataframe tbody tr th {\n",
       "        vertical-align: top;\n",
       "    }\n",
       "\n",
       "    .dataframe thead th {\n",
       "        text-align: right;\n",
       "    }\n",
       "</style>\n",
       "<table border=\"1\" class=\"dataframe\">\n",
       "  <thead>\n",
       "    <tr style=\"text-align: right;\">\n",
       "      <th></th>\n",
       "      <th>channel_id</th>\n",
       "      <th>subscriber_count</th>\n",
       "    </tr>\n",
       "  </thead>\n",
       "  <tbody>\n",
       "    <tr>\n",
       "      <th>0</th>\n",
       "      <td>UCGlgXjYVoHLD86TQQ799WIw</td>\n",
       "      <td>128000</td>\n",
       "    </tr>\n",
       "    <tr>\n",
       "      <th>1</th>\n",
       "      <td>UCXjTiSGclQLVVU83GVrRM4w</td>\n",
       "      <td>1250000</td>\n",
       "    </tr>\n",
       "    <tr>\n",
       "      <th>2</th>\n",
       "      <td>UCrZOiJyMbXpZ8T5snCIJaLA</td>\n",
       "      <td>48400</td>\n",
       "    </tr>\n",
       "  </tbody>\n",
       "</table>\n",
       "</div>"
      ],
      "text/plain": [
       "                 channel_id  subscriber_count\n",
       "0  UCGlgXjYVoHLD86TQQ799WIw            128000\n",
       "1  UCXjTiSGclQLVVU83GVrRM4w           1250000\n",
       "2  UCrZOiJyMbXpZ8T5snCIJaLA             48400"
      ]
     },
     "execution_count": 13,
     "metadata": {},
     "output_type": "execute_result"
    }
   ],
   "source": [
    "df_subscribers = pd.DataFrame(subscribers)\n",
    "df_subscribers[:3]"
   ]
  },
  {
   "cell_type": "code",
   "execution_count": 14,
   "metadata": {},
   "outputs": [
    {
     "data": {
      "text/html": [
       "<div>\n",
       "<style scoped>\n",
       "    .dataframe tbody tr th:only-of-type {\n",
       "        vertical-align: middle;\n",
       "    }\n",
       "\n",
       "    .dataframe tbody tr th {\n",
       "        vertical-align: top;\n",
       "    }\n",
       "\n",
       "    .dataframe thead th {\n",
       "        text-align: right;\n",
       "    }\n",
       "</style>\n",
       "<table border=\"1\" class=\"dataframe\">\n",
       "  <thead>\n",
       "    <tr style=\"text-align: right;\">\n",
       "      <th></th>\n",
       "      <th>video_id</th>\n",
       "      <th>channel_id</th>\n",
       "      <th>subscriber_count</th>\n",
       "    </tr>\n",
       "  </thead>\n",
       "  <tbody>\n",
       "    <tr>\n",
       "      <th>0</th>\n",
       "      <td>bsq2YY-XAEo</td>\n",
       "      <td>UC0xRMqPOyRNPTaL6BxhbCnQ</td>\n",
       "      <td>81800</td>\n",
       "    </tr>\n",
       "    <tr>\n",
       "      <th>1</th>\n",
       "      <td>VRFfAeW30qE</td>\n",
       "      <td>UC0xRMqPOyRNPTaL6BxhbCnQ</td>\n",
       "      <td>81800</td>\n",
       "    </tr>\n",
       "    <tr>\n",
       "      <th>2</th>\n",
       "      <td>KmqEyT7HznQ</td>\n",
       "      <td>UC0xRMqPOyRNPTaL6BxhbCnQ</td>\n",
       "      <td>81800</td>\n",
       "    </tr>\n",
       "  </tbody>\n",
       "</table>\n",
       "</div>"
      ],
      "text/plain": [
       "      video_id                channel_id  subscriber_count\n",
       "0  bsq2YY-XAEo  UC0xRMqPOyRNPTaL6BxhbCnQ             81800\n",
       "1  VRFfAeW30qE  UC0xRMqPOyRNPTaL6BxhbCnQ             81800\n",
       "2  KmqEyT7HznQ  UC0xRMqPOyRNPTaL6BxhbCnQ             81800"
      ]
     },
     "execution_count": 14,
     "metadata": {},
     "output_type": "execute_result"
    }
   ],
   "source": [
    "df = pd.merge(left=df_video, right=df_subscribers, on='channel_id')\n",
    "df.head(3)"
   ]
  },
  {
   "cell_type": "code",
   "execution_count": 25,
   "metadata": {},
   "outputs": [],
   "source": [
    "df_extracted = df[df['subscriber_count'] < 10000]\n",
    "video_ids = df_extracted['video_id'].tolist()"
   ]
  },
  {
   "cell_type": "code",
   "execution_count": 30,
   "metadata": {},
   "outputs": [
    {
     "data": {
      "text/plain": [
       "[{'id': 'SPf_nINsCfw',\n",
       "  'snippet': {'title': '【2021年版】Pythonで業務自動化(Excel,Outlook等)したいならこの本で決定'},\n",
       "  'statistics': {'viewCount': '66113'}},\n",
       " {'id': 'nCfAtMooIQQ',\n",
       "  'snippet': {'title': 'その面倒な作業、自動化してみない？【Pythonで自動化のすすめ】'},\n",
       "  'statistics': {'viewCount': '36867'}},\n",
       " {'id': 'bgzHqKN6teo',\n",
       "  'snippet': {'title': '面倒なExcel作業をPythonで自動化してみた【複数ファイルからデータを一瞬で抽出】'},\n",
       "  'statistics': {'viewCount': '21660'}}]"
      ]
     },
     "execution_count": 30,
     "metadata": {},
     "output_type": "execute_result"
    }
   ],
   "source": [
    "videos_list = youtube.videos().list(\n",
    "    id=','.join(video_ids),\n",
    "    part='snippet,statistics',\n",
    "    fields='items(id,snippet(title),statistics(viewCount))'\n",
    ").execute()\n",
    "items = videos_list['items']\n",
    "items"
   ]
  },
  {
   "cell_type": "code",
   "execution_count": 31,
   "metadata": {},
   "outputs": [
    {
     "data": {
      "text/plain": [
       "[{'video_id': 'SPf_nINsCfw',\n",
       "  'title': '【2021年版】Pythonで業務自動化(Excel,Outlook等)したいならこの本で決定',\n",
       "  'view_count': '66113'},\n",
       " {'video_id': 'nCfAtMooIQQ',\n",
       "  'title': 'その面倒な作業、自動化してみない？【Pythonで自動化のすすめ】',\n",
       "  'view_count': '36867'},\n",
       " {'video_id': 'bgzHqKN6teo',\n",
       "  'title': '面倒なExcel作業をPythonで自動化してみた【複数ファイルからデータを一瞬で抽出】',\n",
       "  'view_count': '21660'}]"
      ]
     },
     "execution_count": 31,
     "metadata": {},
     "output_type": "execute_result"
    }
   ],
   "source": [
    "videos_info = []\n",
    "for item in items:\n",
    "    video_info = {}\n",
    "    video_info['video_id'] = item['id']\n",
    "    video_info['title'] = item['snippet']['title']\n",
    "    video_info['view_count'] = item['statistics']['viewCount']\n",
    "    videos_info.append(video_info)\n",
    "videos_info"
   ]
  },
  {
   "cell_type": "code",
   "execution_count": 32,
   "metadata": {},
   "outputs": [
    {
     "data": {
      "text/html": [
       "<div>\n",
       "<style scoped>\n",
       "    .dataframe tbody tr th:only-of-type {\n",
       "        vertical-align: middle;\n",
       "    }\n",
       "\n",
       "    .dataframe tbody tr th {\n",
       "        vertical-align: top;\n",
       "    }\n",
       "\n",
       "    .dataframe thead th {\n",
       "        text-align: right;\n",
       "    }\n",
       "</style>\n",
       "<table border=\"1\" class=\"dataframe\">\n",
       "  <thead>\n",
       "    <tr style=\"text-align: right;\">\n",
       "      <th></th>\n",
       "      <th>video_id</th>\n",
       "      <th>title</th>\n",
       "      <th>view_count</th>\n",
       "    </tr>\n",
       "  </thead>\n",
       "  <tbody>\n",
       "    <tr>\n",
       "      <th>0</th>\n",
       "      <td>SPf_nINsCfw</td>\n",
       "      <td>【2021年版】Pythonで業務自動化(Excel,Outlook等)したいならこの本で決定</td>\n",
       "      <td>66113</td>\n",
       "    </tr>\n",
       "    <tr>\n",
       "      <th>1</th>\n",
       "      <td>nCfAtMooIQQ</td>\n",
       "      <td>その面倒な作業、自動化してみない？【Pythonで自動化のすすめ】</td>\n",
       "      <td>36867</td>\n",
       "    </tr>\n",
       "    <tr>\n",
       "      <th>2</th>\n",
       "      <td>bgzHqKN6teo</td>\n",
       "      <td>面倒なExcel作業をPythonで自動化してみた【複数ファイルからデータを一瞬で抽出】</td>\n",
       "      <td>21660</td>\n",
       "    </tr>\n",
       "  </tbody>\n",
       "</table>\n",
       "</div>"
      ],
      "text/plain": [
       "      video_id                                            title view_count\n",
       "0  SPf_nINsCfw  【2021年版】Pythonで業務自動化(Excel,Outlook等)したいならこの本で決定      66113\n",
       "1  nCfAtMooIQQ                その面倒な作業、自動化してみない？【Pythonで自動化のすすめ】      36867\n",
       "2  bgzHqKN6teo     面倒なExcel作業をPythonで自動化してみた【複数ファイルからデータを一瞬で抽出】      21660"
      ]
     },
     "execution_count": 32,
     "metadata": {},
     "output_type": "execute_result"
    }
   ],
   "source": [
    "df_videos_info = pd.DataFrame(videos_info)\n",
    "df_videos_info"
   ]
  },
  {
   "cell_type": "code",
   "execution_count": 33,
   "metadata": {},
   "outputs": [
    {
     "data": {
      "text/html": [
       "<div>\n",
       "<style scoped>\n",
       "    .dataframe tbody tr th:only-of-type {\n",
       "        vertical-align: middle;\n",
       "    }\n",
       "\n",
       "    .dataframe tbody tr th {\n",
       "        vertical-align: top;\n",
       "    }\n",
       "\n",
       "    .dataframe thead th {\n",
       "        text-align: right;\n",
       "    }\n",
       "</style>\n",
       "<table border=\"1\" class=\"dataframe\">\n",
       "  <thead>\n",
       "    <tr style=\"text-align: right;\">\n",
       "      <th></th>\n",
       "      <th>video_id</th>\n",
       "      <th>channel_id</th>\n",
       "      <th>subscriber_count</th>\n",
       "      <th>title</th>\n",
       "      <th>view_count</th>\n",
       "    </tr>\n",
       "  </thead>\n",
       "  <tbody>\n",
       "    <tr>\n",
       "      <th>0</th>\n",
       "      <td>SPf_nINsCfw</td>\n",
       "      <td>UCGFxqqRaM97VjM5ToRfkoFg</td>\n",
       "      <td>5080</td>\n",
       "      <td>【2021年版】Pythonで業務自動化(Excel,Outlook等)したいならこの本で決定</td>\n",
       "      <td>66113</td>\n",
       "    </tr>\n",
       "    <tr>\n",
       "      <th>1</th>\n",
       "      <td>nCfAtMooIQQ</td>\n",
       "      <td>UCNste53_VRtP6MGUfitOYQA</td>\n",
       "      <td>5110</td>\n",
       "      <td>その面倒な作業、自動化してみない？【Pythonで自動化のすすめ】</td>\n",
       "      <td>36867</td>\n",
       "    </tr>\n",
       "    <tr>\n",
       "      <th>2</th>\n",
       "      <td>bgzHqKN6teo</td>\n",
       "      <td>UCYPkI8lgfiNXmGxCglZhOwA</td>\n",
       "      <td>772</td>\n",
       "      <td>面倒なExcel作業をPythonで自動化してみた【複数ファイルからデータを一瞬で抽出】</td>\n",
       "      <td>21660</td>\n",
       "    </tr>\n",
       "  </tbody>\n",
       "</table>\n",
       "</div>"
      ],
      "text/plain": [
       "      video_id                channel_id  subscriber_count  \\\n",
       "0  SPf_nINsCfw  UCGFxqqRaM97VjM5ToRfkoFg              5080   \n",
       "1  nCfAtMooIQQ  UCNste53_VRtP6MGUfitOYQA              5110   \n",
       "2  bgzHqKN6teo  UCYPkI8lgfiNXmGxCglZhOwA               772   \n",
       "\n",
       "                                             title view_count  \n",
       "0  【2021年版】Pythonで業務自動化(Excel,Outlook等)したいならこの本で決定      66113  \n",
       "1                その面倒な作業、自動化してみない？【Pythonで自動化のすすめ】      36867  \n",
       "2     面倒なExcel作業をPythonで自動化してみた【複数ファイルからデータを一瞬で抽出】      21660  "
      ]
     },
     "execution_count": 33,
     "metadata": {},
     "output_type": "execute_result"
    }
   ],
   "source": [
    "results = pd.merge(left=df_extracted, right=df_videos_info, on='video_id')\n",
    "results"
   ]
  },
  {
   "cell_type": "code",
   "execution_count": 36,
   "metadata": {},
   "outputs": [
    {
     "data": {
      "text/html": [
       "<div>\n",
       "<style scoped>\n",
       "    .dataframe tbody tr th:only-of-type {\n",
       "        vertical-align: middle;\n",
       "    }\n",
       "\n",
       "    .dataframe tbody tr th {\n",
       "        vertical-align: top;\n",
       "    }\n",
       "\n",
       "    .dataframe thead th {\n",
       "        text-align: right;\n",
       "    }\n",
       "</style>\n",
       "<table border=\"1\" class=\"dataframe\">\n",
       "  <thead>\n",
       "    <tr style=\"text-align: right;\">\n",
       "      <th></th>\n",
       "      <th>video_id</th>\n",
       "      <th>title</th>\n",
       "      <th>view_count</th>\n",
       "      <th>subscriber_count</th>\n",
       "      <th>channel_id</th>\n",
       "    </tr>\n",
       "  </thead>\n",
       "  <tbody>\n",
       "    <tr>\n",
       "      <th>0</th>\n",
       "      <td>SPf_nINsCfw</td>\n",
       "      <td>【2021年版】Pythonで業務自動化(Excel,Outlook等)したいならこの本で決定</td>\n",
       "      <td>66113</td>\n",
       "      <td>5080</td>\n",
       "      <td>UCGFxqqRaM97VjM5ToRfkoFg</td>\n",
       "    </tr>\n",
       "    <tr>\n",
       "      <th>1</th>\n",
       "      <td>nCfAtMooIQQ</td>\n",
       "      <td>その面倒な作業、自動化してみない？【Pythonで自動化のすすめ】</td>\n",
       "      <td>36867</td>\n",
       "      <td>5110</td>\n",
       "      <td>UCNste53_VRtP6MGUfitOYQA</td>\n",
       "    </tr>\n",
       "    <tr>\n",
       "      <th>2</th>\n",
       "      <td>bgzHqKN6teo</td>\n",
       "      <td>面倒なExcel作業をPythonで自動化してみた【複数ファイルからデータを一瞬で抽出】</td>\n",
       "      <td>21660</td>\n",
       "      <td>772</td>\n",
       "      <td>UCYPkI8lgfiNXmGxCglZhOwA</td>\n",
       "    </tr>\n",
       "  </tbody>\n",
       "</table>\n",
       "</div>"
      ],
      "text/plain": [
       "      video_id                                            title view_count  \\\n",
       "0  SPf_nINsCfw  【2021年版】Pythonで業務自動化(Excel,Outlook等)したいならこの本で決定      66113   \n",
       "1  nCfAtMooIQQ                その面倒な作業、自動化してみない？【Pythonで自動化のすすめ】      36867   \n",
       "2  bgzHqKN6teo     面倒なExcel作業をPythonで自動化してみた【複数ファイルからデータを一瞬で抽出】      21660   \n",
       "\n",
       "   subscriber_count                channel_id  \n",
       "0              5080  UCGFxqqRaM97VjM5ToRfkoFg  \n",
       "1              5110  UCNste53_VRtP6MGUfitOYQA  \n",
       "2               772  UCYPkI8lgfiNXmGxCglZhOwA  "
      ]
     },
     "execution_count": 36,
     "metadata": {},
     "output_type": "execute_result"
    }
   ],
   "source": [
    "results = results.loc[:,['video_id', 'title', 'view_count', 'subscriber_count', 'channel_id']]\n",
    "results"
   ]
  },
  {
   "cell_type": "markdown",
   "metadata": {},
   "source": [
    "## 処理をまとめる"
   ]
  },
  {
   "cell_type": "code",
   "execution_count": 58,
   "metadata": {},
   "outputs": [
    {
     "name": "stdout",
     "output_type": "stream",
     "text": [
      "{'items': [{'id': 'SPf_nINsCfw', 'snippet': {'title': '【2021年版】Pythonで業務自動化(Excel,Outlook等)したいならこの本で決定'}, 'statistics': {'viewCount': '66114'}}, {'id': 'nCfAtMooIQQ', 'snippet': {'title': 'その面倒な作業、自動化してみない？【Pythonで自動化のすすめ】'}, 'statistics': {'viewCount': '36867'}}, {'id': 'bgzHqKN6teo', 'snippet': {'title': '面倒なExcel作業をPythonで自動化してみた【複数ファイルからデータを一瞬で抽出】'}, 'statistics': {'viewCount': '21660'}}]}\n"
     ]
    },
    {
     "data": {
      "text/html": [
       "<div>\n",
       "<style scoped>\n",
       "    .dataframe tbody tr th:only-of-type {\n",
       "        vertical-align: middle;\n",
       "    }\n",
       "\n",
       "    .dataframe tbody tr th {\n",
       "        vertical-align: top;\n",
       "    }\n",
       "\n",
       "    .dataframe thead th {\n",
       "        text-align: right;\n",
       "    }\n",
       "</style>\n",
       "<table border=\"1\" class=\"dataframe\">\n",
       "  <thead>\n",
       "    <tr style=\"text-align: right;\">\n",
       "      <th></th>\n",
       "      <th>video_id</th>\n",
       "      <th>title</th>\n",
       "      <th>view_count</th>\n",
       "      <th>subscriber_count</th>\n",
       "      <th>channel_id</th>\n",
       "    </tr>\n",
       "  </thead>\n",
       "  <tbody>\n",
       "    <tr>\n",
       "      <th>0</th>\n",
       "      <td>SPf_nINsCfw</td>\n",
       "      <td>【2021年版】Pythonで業務自動化(Excel,Outlook等)したいならこの本で決定</td>\n",
       "      <td>66114</td>\n",
       "      <td>5080</td>\n",
       "      <td>UCGFxqqRaM97VjM5ToRfkoFg</td>\n",
       "    </tr>\n",
       "    <tr>\n",
       "      <th>1</th>\n",
       "      <td>nCfAtMooIQQ</td>\n",
       "      <td>その面倒な作業、自動化してみない？【Pythonで自動化のすすめ】</td>\n",
       "      <td>36867</td>\n",
       "      <td>5110</td>\n",
       "      <td>UCNste53_VRtP6MGUfitOYQA</td>\n",
       "    </tr>\n",
       "    <tr>\n",
       "      <th>2</th>\n",
       "      <td>bgzHqKN6teo</td>\n",
       "      <td>面倒なExcel作業をPythonで自動化してみた【複数ファイルからデータを一瞬で抽出】</td>\n",
       "      <td>21660</td>\n",
       "      <td>772</td>\n",
       "      <td>UCYPkI8lgfiNXmGxCglZhOwA</td>\n",
       "    </tr>\n",
       "  </tbody>\n",
       "</table>\n",
       "</div>"
      ],
      "text/plain": [
       "      video_id                                            title view_count  \\\n",
       "0  SPf_nINsCfw  【2021年版】Pythonで業務自動化(Excel,Outlook等)したいならこの本で決定      66114   \n",
       "1  nCfAtMooIQQ                その面倒な作業、自動化してみない？【Pythonで自動化のすすめ】      36867   \n",
       "2  bgzHqKN6teo     面倒なExcel作業をPythonで自動化してみた【複数ファイルからデータを一瞬で抽出】      21660   \n",
       "\n",
       "   subscriber_count                channel_id  \n",
       "0              5080  UCGFxqqRaM97VjM5ToRfkoFg  \n",
       "1              5110  UCNste53_VRtP6MGUfitOYQA  \n",
       "2               772  UCYPkI8lgfiNXmGxCglZhOwA  "
      ]
     },
     "execution_count": 58,
     "metadata": {},
     "output_type": "execute_result"
    }
   ],
   "source": [
    "def get_results(df_video, threshold=10000):\n",
    "    channel_ids = df_video['channel_id'].unique().tolist()\n",
    "    subscriber_list = youtube.channels().list(\n",
    "        id=','.join(channel_ids),\n",
    "        part='statistics',\n",
    "        fields='items(id,statistics(subscriberCount))'\n",
    "    ).execute()\n",
    "\n",
    "    subscribers = []\n",
    "    for item in subscriber_list['items']:\n",
    "        subscriber = {}\n",
    "        if len(item['statistics']) > 0:\n",
    "            subscriber['channel_id'] = item['id']\n",
    "            subscriber['subscriber_count'] = int(item['statistics']['subscriberCount'])\n",
    "        else:\n",
    "            subscriber['channel_id'] = item['id']\n",
    "        subscribers.append(subscriber)\n",
    "    df_subscribers = pd.DataFrame(subscribers)\n",
    "\n",
    "    df = pd.merge(left=df_video, right=df_subscribers, on='channel_id')\n",
    "    df_extracted = df[df['subscriber_count'] < threshold]\n",
    "    video_ids = df_extracted['video_id'].tolist()\n",
    "\n",
    "    videos_list = youtube.videos().list(\n",
    "        id=','.join(video_ids),\n",
    "        part='snippet,statistics',\n",
    "        fields='items(id,snippet(title),statistics(viewCount))'\n",
    "    ).execute()\n",
    "    print(videos_list)\n",
    "    items = videos_list['items']\n",
    "    videos_info = []\n",
    "    for item in items:\n",
    "        video_info = {}\n",
    "        video_info['video_id'] = item['id']\n",
    "        video_info['title'] = item['snippet']['title']\n",
    "        video_info['view_count'] = item['statistics']['viewCount']\n",
    "        videos_info.append(video_info)\n",
    "\n",
    "    df_videos_info = pd.DataFrame(videos_info)\n",
    "    results = pd.merge(left=df_extracted, right=df_videos_info, on='video_id')\n",
    "    results = results.loc[:,['video_id', 'title', 'view_count', 'subscriber_count', 'channel_id']]\n",
    "    return results\n",
    "\n",
    "df_video = video_search(youtube, q='Python 自動化', max_results=30)\n",
    "get_results(df_video, threshold=10000)"
   ]
  },
  {
   "cell_type": "code",
   "execution_count": null,
   "metadata": {},
   "outputs": [],
   "source": []
  }
 ],
 "metadata": {
  "interpreter": {
   "hash": "1453d9d108f4841d914fd7c8bacc468987a3aeb59ec410b3d68f52ab5761b452"
  },
  "kernelspec": {
   "display_name": "Python 3.9.7 64-bit",
   "name": "python3"
  },
  "language_info": {
   "codemirror_mode": {
    "name": "ipython",
    "version": 3
   },
   "file_extension": ".py",
   "mimetype": "text/x-python",
   "name": "python",
   "nbconvert_exporter": "python",
   "pygments_lexer": "ipython3",
   "version": "3.9.7"
  },
  "orig_nbformat": 4
 },
 "nbformat": 4,
 "nbformat_minor": 2
}
